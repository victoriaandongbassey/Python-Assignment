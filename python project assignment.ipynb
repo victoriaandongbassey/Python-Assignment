{
 "cells": [
  {
   "cell_type": "markdown",
   "metadata": {
    "id": "HnAlaR5Y2rc8"
   },
   "source": [
    "# Project Python Foundations: FoodHub Data Analysis\n",
    "\n",
    "**Marks: 60 points**"
   ]
  },
  {
   "cell_type": "markdown",
   "metadata": {
    "id": "N0e9ilAx2rc_"
   },
   "source": [
    "### Context\n",
    "\n",
    "The number of restaurants in New York is increasing day by day. Lots of students and busy professionals rely on those restaurants due to their hectic lifestyles. Online food delivery service is a great option for them. It provides them with good food from their favorite restaurants. A food aggregator company FoodHub offers access to multiple restaurants through a single smartphone app.\n",
    "\n",
    "The app allows the restaurants to receive a direct online order from a customer. The app assigns a delivery person from the company to pick up the order after it is confirmed by the restaurant. The delivery person then uses the map to reach the restaurant and waits for the food package. Once the food package is handed over to the delivery person, he/she confirms the pick-up in the app and travels to the customer's location to deliver the food. The delivery person confirms the drop-off in the app after delivering the food package to the customer. The customer can rate the order in the app. The food aggregator earns money by collecting a fixed margin of the delivery order from the restaurants.\n",
    "\n",
    "### Objective\n",
    "\n",
    "The food aggregator company has stored the data of the different orders made by the registered customers in their online portal. They want to analyze the data to get a fair idea about the demand of different restaurants which will help them in enhancing their customer experience. Suppose you are a Data Scientist at Foodhub and the Data Science team has shared some of the key questions that need to be answered. Perform the data analysis to find answers to these questions that will help the company to improve the business.\n",
    "\n",
    "### Data Description\n",
    "\n",
    "The data contains the different data related to a food order. The detailed data dictionary is given below.\n",
    "\n",
    "### Data Dictionary\n",
    "\n",
    "* order_id: Unique ID of the order\n",
    "* customer_id: ID of the customer who ordered the food\n",
    "* restaurant_name: Name of the restaurant\n",
    "* cuisine_type: Cuisine ordered by the customer\n",
    "* cost_of_the_order: Cost of the order\n",
    "* day_of_the_week: Indicates whether the order is placed on a weekday or weekend (The weekday is from Monday to Friday and the weekend is Saturday and Sunday)\n",
    "* rating: Rating given by the customer out of 5\n",
    "* food_preparation_time: Time (in minutes) taken by the restaurant to prepare the food. This is calculated by taking the difference between the timestamps of the restaurant's order confirmation and the delivery person's pick-up confirmation.\n",
    "* delivery_time: Time (in minutes) taken by the delivery person to deliver the food package. This is calculated by taking the difference between the timestamps of the delivery person's pick-up confirmation and drop-off information"
   ]
  },
  {
   "cell_type": "markdown",
   "metadata": {
    "id": "Ruz2EiJ32rdB"
   },
   "source": [
    "### **Please read the instructions carefully before starting the project.**\n",
    "This is a commented Jupyter IPython Notebook file in which all the instructions and tasks to be performed are mentioned. Read along carefully to complete the project.\n",
    "* Blanks '_______' are provided in the notebook that\n",
    "needs to be filled with an appropriate code to get the correct result. Please replace the blank with the right code snippet. With every '_______' blank, there is a comment that briefly describes what needs to be filled in the blank space.\n",
    "* Identify the task to be performed correctly, and only then proceed to write the required code.\n",
    "* Fill the code wherever asked by the commented lines like \"# write your code here\" or \"# complete the code\". Running incomplete code may throw an error.\n",
    "* Please run the codes in a sequential manner from the beginning to avoid any unnecessary errors.\n",
    "* You can the results/observations derived from the analysis here and use them to create your final presentation.\n"
   ]
  },
  {
   "cell_type": "markdown",
   "metadata": {
    "id": "enOodKS42rdB"
   },
   "source": [
    "### Let us start by importing the required libraries"
   ]
  },
  {
   "cell_type": "code",
   "execution_count": 1,
   "metadata": {
    "id": "p7FpluTK2rdC"
   },
   "outputs": [],
   "source": [
    "# Import libraries for data manipulation\n",
    "import numpy as np\n",
    "import pandas as pd\n",
    "\n",
    "# Import libraries for data visualization\n",
    "import matplotlib.pyplot as plt\n",
    "import seaborn as sns"
   ]
  },
  {
   "cell_type": "markdown",
   "metadata": {
    "id": "LHxIYWXP2rdD"
   },
   "source": [
    "### Understanding the structure of the data"
   ]
  },
  {
   "cell_type": "code",
   "execution_count": 2,
   "metadata": {
    "id": "nwlzFr-_2rdD",
    "scrolled": true
   },
   "outputs": [
    {
     "data": {
      "text/html": [
       "<div>\n",
       "<style scoped>\n",
       "    .dataframe tbody tr th:only-of-type {\n",
       "        vertical-align: middle;\n",
       "    }\n",
       "\n",
       "    .dataframe tbody tr th {\n",
       "        vertical-align: top;\n",
       "    }\n",
       "\n",
       "    .dataframe thead th {\n",
       "        text-align: right;\n",
       "    }\n",
       "</style>\n",
       "<table border=\"1\" class=\"dataframe\">\n",
       "  <thead>\n",
       "    <tr style=\"text-align: right;\">\n",
       "      <th></th>\n",
       "      <th>order_id</th>\n",
       "      <th>customer_id</th>\n",
       "      <th>restaurant_name</th>\n",
       "      <th>cuisine_type</th>\n",
       "      <th>cost_of_the_order</th>\n",
       "      <th>day_of_the_week</th>\n",
       "      <th>rating</th>\n",
       "      <th>food_preparation_time</th>\n",
       "      <th>delivery_time</th>\n",
       "    </tr>\n",
       "  </thead>\n",
       "  <tbody>\n",
       "    <tr>\n",
       "      <th>0</th>\n",
       "      <td>1477147</td>\n",
       "      <td>337525</td>\n",
       "      <td>Hangawi</td>\n",
       "      <td>Korean</td>\n",
       "      <td>30.75</td>\n",
       "      <td>Weekend</td>\n",
       "      <td>Not given</td>\n",
       "      <td>25</td>\n",
       "      <td>20</td>\n",
       "    </tr>\n",
       "    <tr>\n",
       "      <th>1</th>\n",
       "      <td>1477685</td>\n",
       "      <td>358141</td>\n",
       "      <td>Blue Ribbon Sushi Izakaya</td>\n",
       "      <td>Japanese</td>\n",
       "      <td>12.08</td>\n",
       "      <td>Weekend</td>\n",
       "      <td>Not given</td>\n",
       "      <td>25</td>\n",
       "      <td>23</td>\n",
       "    </tr>\n",
       "    <tr>\n",
       "      <th>2</th>\n",
       "      <td>1477070</td>\n",
       "      <td>66393</td>\n",
       "      <td>Cafe Habana</td>\n",
       "      <td>Mexican</td>\n",
       "      <td>12.23</td>\n",
       "      <td>Weekday</td>\n",
       "      <td>5</td>\n",
       "      <td>23</td>\n",
       "      <td>28</td>\n",
       "    </tr>\n",
       "    <tr>\n",
       "      <th>3</th>\n",
       "      <td>1477334</td>\n",
       "      <td>106968</td>\n",
       "      <td>Blue Ribbon Fried Chicken</td>\n",
       "      <td>American</td>\n",
       "      <td>29.20</td>\n",
       "      <td>Weekend</td>\n",
       "      <td>3</td>\n",
       "      <td>25</td>\n",
       "      <td>15</td>\n",
       "    </tr>\n",
       "    <tr>\n",
       "      <th>4</th>\n",
       "      <td>1478249</td>\n",
       "      <td>76942</td>\n",
       "      <td>Dirty Bird to Go</td>\n",
       "      <td>American</td>\n",
       "      <td>11.59</td>\n",
       "      <td>Weekday</td>\n",
       "      <td>4</td>\n",
       "      <td>25</td>\n",
       "      <td>24</td>\n",
       "    </tr>\n",
       "  </tbody>\n",
       "</table>\n",
       "</div>"
      ],
      "text/plain": [
       "   order_id  customer_id            restaurant_name cuisine_type  \\\n",
       "0   1477147       337525                    Hangawi       Korean   \n",
       "1   1477685       358141  Blue Ribbon Sushi Izakaya     Japanese   \n",
       "2   1477070        66393                Cafe Habana      Mexican   \n",
       "3   1477334       106968  Blue Ribbon Fried Chicken     American   \n",
       "4   1478249        76942           Dirty Bird to Go     American   \n",
       "\n",
       "   cost_of_the_order day_of_the_week     rating  food_preparation_time  \\\n",
       "0              30.75         Weekend  Not given                     25   \n",
       "1              12.08         Weekend  Not given                     25   \n",
       "2              12.23         Weekday          5                     23   \n",
       "3              29.20         Weekend          3                     25   \n",
       "4              11.59         Weekday          4                     25   \n",
       "\n",
       "   delivery_time  \n",
       "0             20  \n",
       "1             23  \n",
       "2             28  \n",
       "3             15  \n",
       "4             24  "
      ]
     },
     "execution_count": 2,
     "metadata": {},
     "output_type": "execute_result"
    }
   ],
   "source": [
    "# Read the data\n",
    "df = pd.read_csv('foodhub_order.csv') ## Fill the blank to read the data\n",
    "# Returns the first 5 rows\n",
    "df.head()"
   ]
  },
  {
   "cell_type": "markdown",
   "metadata": {
    "id": "AeR7rXZF2rdE"
   },
   "source": [
    "### **Question 1:** How many rows and columns are present in the data? [0.5 mark]"
   ]
  },
  {
   "cell_type": "code",
   "execution_count": 3,
   "metadata": {
    "id": "xaLu_bAm2rdE"
   },
   "outputs": [
    {
     "data": {
      "text/plain": [
       "(1898, 9)"
      ]
     },
     "execution_count": 3,
     "metadata": {},
     "output_type": "execute_result"
    }
   ],
   "source": [
    "# Check the shape of the dataset\n",
    "df.shape ## Fill in the blank"
   ]
  },
  {
   "cell_type": "markdown",
   "metadata": {
    "id": "-YJkCL112rdF"
   },
   "source": [
    "### **Question 2:** What are the datatypes of the different columns in the dataset? [0.5 mark]"
   ]
  },
  {
   "cell_type": "code",
   "execution_count": 4,
   "metadata": {
    "id": "EUXmdNxe2rdF"
   },
   "outputs": [
    {
     "name": "stdout",
     "output_type": "stream",
     "text": [
      "order_id                   int64\n",
      "customer_id                int64\n",
      "restaurant_name           object\n",
      "cuisine_type              object\n",
      "cost_of_the_order        float64\n",
      "day_of_the_week           object\n",
      "rating                    object\n",
      "food_preparation_time      int64\n",
      "delivery_time              int64\n",
      "dtype: object\n"
     ]
    }
   ],
   "source": [
    "column_datatypes = df.dtypes\n",
    "print(column_datatypes)"
   ]
  },
  {
   "cell_type": "markdown",
   "metadata": {
    "id": "Atn8lGeE2rdF"
   },
   "source": [
    "### **Question 3:** Are there any missing values in the data? If yes, treat them using an appropriate method.  [1 Mark]"
   ]
  },
  {
   "cell_type": "code",
   "execution_count": 13,
   "metadata": {
    "id": "kZbMrwFC2rdG"
   },
   "outputs": [
    {
     "name": "stdout",
     "output_type": "stream",
     "text": [
      "Columns with missing values:\n",
      "Series([], dtype: int64)\n",
      "\n",
      "Total number of missing values: 0\n"
     ]
    }
   ],
   "source": [
    "# Checking for missing values in the data\n",
    "missing_values = df.isnull().sum()\n",
    "print(\"Columns with missing values:\")\n",
    "print(missing_values[missing_values > 0])\n",
    "\n",
    "total_missing = missing_values.sum()\n",
    "print(f\"\\nTotal number of missing values: {total_missing}\")\n"
   ]
  },
  {
   "cell_type": "markdown",
   "metadata": {
    "id": "krjqvuKv2rdG"
   },
   "source": [
    "### **Question 4:** Check the statistical summary of the data. What is the minimum, average, and maximum time it takes for food to be prepared once an order is placed? [2 marks]"
   ]
  },
  {
   "cell_type": "code",
   "execution_count": 83,
   "metadata": {
    "id": "MDZkL24f2rdG"
   },
   "outputs": [
    {
     "name": "stdout",
     "output_type": "stream",
     "text": [
      "count    1898.000000\n",
      "mean       27.371970\n",
      "std         4.632481\n",
      "min        20.000000\n",
      "25%        23.000000\n",
      "50%        27.000000\n",
      "75%        31.000000\n",
      "max        35.000000\n",
      "Name: food_preparation_time, dtype: float64\n"
     ]
    }
   ],
   "source": [
    "# Get the summary statistics of the numerical data\n",
    "df = df['food_preparation_time'].describe()\n",
    "print(df) ## Write the appropriate function to print the statitical summary of the data (Hint - you have seen this in the case studies before)\n",
    "\n"
   ]
  },
  {
   "cell_type": "markdown",
   "metadata": {
    "id": "LDlbXZWG2rdH"
   },
   "source": [
    "### **Question 5:** How many orders are not rated? [1 mark]"
   ]
  },
  {
   "cell_type": "code",
   "execution_count": 80,
   "metadata": {
    "id": "RUJo1me22rdH"
   },
   "outputs": [
    {
     "data": {
      "text/plain": [
       "Not given    736\n",
       "5            588\n",
       "4            386\n",
       "3            188\n",
       "Name: rating, dtype: int64"
      ]
     },
     "execution_count": 80,
     "metadata": {},
     "output_type": "execute_result"
    }
   ],
   "source": [
    "df['rating'].value_counts() ## Complete the code"
   ]
  },
  {
   "cell_type": "markdown",
   "metadata": {
    "id": "LUh8hTiW2rdH"
   },
   "source": [
    "### Exploratory Data Analysis (EDA)"
   ]
  },
  {
   "cell_type": "markdown",
   "metadata": {
    "id": "2Dl2aL1W2rdI"
   },
   "source": [
    "### Univariate Analysis"
   ]
  },
  {
   "cell_type": "markdown",
   "metadata": {
    "id": "gxBiurJ-2rdI"
   },
   "source": [
    "### **Question 6:** Explore all the variables and provide observations on their distributions. (Generally, histograms, boxplots, countplots, etc. are used for univariate exploration.) [9 marks]"
   ]
  },
  {
   "cell_type": "markdown",
   "metadata": {
    "id": "TXEjEAXqbZmQ"
   },
   "source": [
    "#### Order ID"
   ]
  },
  {
   "cell_type": "code",
   "execution_count": 41,
   "metadata": {
    "id": "cmmmjUyebZmQ"
   },
   "outputs": [
    {
     "data": {
      "text/plain": [
       "1898"
      ]
     },
     "execution_count": 41,
     "metadata": {},
     "output_type": "execute_result"
    }
   ],
   "source": [
    "# check unique order ID----\n",
    "\n",
    "\n",
    "df['order_id'].nunique()"
   ]
  },
  {
   "cell_type": "markdown",
   "metadata": {
    "id": "ts6l2h0abZmQ"
   },
   "source": [
    "#### Customer ID"
   ]
  },
  {
   "cell_type": "code",
   "execution_count": 42,
   "metadata": {
    "id": "yZRW2FBSbZmQ"
   },
   "outputs": [
    {
     "data": {
      "text/plain": [
       "1200"
      ]
     },
     "execution_count": 42,
     "metadata": {},
     "output_type": "execute_result"
    }
   ],
   "source": [
    "# check unique customer ID\n",
    "\n",
    "\n",
    "df['customer_id'].nunique()  ## Complete the code to find out number of unique Customer ID"
   ]
  },
  {
   "cell_type": "markdown",
   "metadata": {
    "id": "mgv5gIIEbZmR"
   },
   "source": [
    "#### Restaurant name"
   ]
  },
  {
   "cell_type": "code",
   "execution_count": 40,
   "metadata": {
    "id": "GYGzUuzcbZmR"
   },
   "outputs": [
    {
     "data": {
      "text/plain": [
       "array(['Hangawi', 'Blue Ribbon Sushi Izakaya', 'Cafe Habana',\n",
       "       'Blue Ribbon Fried Chicken', 'Dirty Bird to Go',\n",
       "       'Tamarind TriBeCa', 'The Meatball Shop', 'Barbounia',\n",
       "       'Anjappar Chettinad', 'Bukhara Grill',\n",
       "       'Big Wong Restaurant \\x8c_¤¾Ñ¼', 'Empanada Mama (closed)', 'Pylos',\n",
       "       \"Lucky's Famous Burgers\", 'Shake Shack', 'Sushi of Gari',\n",
       "       'RedFarm Hudson', 'Blue Ribbon Sushi',\n",
       "       'Five Guys Burgers and Fries', 'Tortaria', 'Cafe Mogador',\n",
       "       'Otto Enoteca Pizzeria', 'Vezzo Thin Crust Pizza',\n",
       "       'Sushi of Gari 46', 'The Kati Roll Company', 'Klong',\n",
       "       '5 Napkin Burger', 'TAO', 'Parm', 'Sushi Samba',\n",
       "       'Haru Gramercy Park', 'Chipotle Mexican Grill $1.99 Delivery',\n",
       "       'RedFarm Broadway', 'Cafeteria', 'DuMont Burger',\n",
       "       \"Sarabeth's East\", 'Hill Country Fried Chicken', 'Bistango',\n",
       "       \"Jack's Wife Freda\", \"Mamoun's Falafel\", 'Prosperity Dumpling',\n",
       "       'Blue Ribbon Sushi Bar & Grill', 'Westville Hudson',\n",
       "       'Blue Ribbon Brooklyn', 'Nobu Next Door', 'Osteria Morini',\n",
       "       'Haandi', 'Benihana', 'Han Dynasty', 'Chote Nawab',\n",
       "       'Mission Cantina', \"Xi'an Famous Foods\", 'Rubirosa',\n",
       "       \"Joe's Shanghai \\x8e_À\\x8eü£¾÷´\", 'Bareburger', 'The Odeon',\n",
       "       'Pongsri Thai', 'Yama Japanese Restaurant', 'Momoya',\n",
       "       'Balthazar Boulangerie', 'CafÌ© China', 'Boqueria',\n",
       "       'Song Thai Restaurant & Bar', 'Five Leaves',\n",
       "       'Pinto Nouveau Thai Bistro', \"Amy Ruth's\", 'Pepe Giallo',\n",
       "       'indikitch', 'Yama 49', 'Piccolo Angolo', 'Pepe Rosso To Go',\n",
       "       \"L'Express\", 'Amma', 'Delicatessen', \"S'MAC\",\n",
       "       \"Vanessa's Dumplings\", 'Bhatti Indian Grill', 'Taro Sushi',\n",
       "       'Donburi-ya', 'Hatsuhana', 'Samurai Mama', 'Waverly Diner',\n",
       "       'Tarallucci e Vino Restaurant', \"P.J. Clarke's\",\n",
       "       'Lantern Thai Kitchen', 'ilili Restaurant', 'The Smile',\n",
       "       \"Vanessa's Dumpling House\", \"Bubby's \", 'Woorijip',\n",
       "       'Dirty Bird To Go (archived)', 'Haveli Indian Restaurant',\n",
       "       'Dos Caminos', 'da Umberto', 'Sushi of Gari Tribeca',\n",
       "       'Burger Joint', 'Room Service', \"Sarabeth's Restaurant\",\n",
       "       'Xe May Sandwich Shop', 'Hibino', 'Mira Sushi', 'Melt Shop',\n",
       "       'J. G. Melon', 'Hummus Place', 'Saravanaa Bhavan',\n",
       "       'Friend of a Farmer', 'The Loop', 'Balade', 'Posto',\n",
       "       'Terakawa Ramen', 'Kambi Ramen House', 'Wo Hop Restaurant',\n",
       "       'Spice Thai', \"Dickson's Farmstand Meats\",\n",
       "       'UVA Wine Bar & Restaurant', 'Serafina Fabulous Pizza',\n",
       "       'Gaia Italian Cafe', 'Chola Eclectic Indian Cuisine',\n",
       "       'Hot Kitchen', 'Junoon', 'Ravagh Persian Grill', 'Rohm Thai',\n",
       "       'Dig Inn Seasonal Market', 'Olea', 'Cho Dang Gol',\n",
       "       'El Parador Cafe', 'Socarrat Paella Bar',\n",
       "       \"Don's Bogam BBQ & Wine Bar\", 'Alidoro', \"Tony's Di Napoli\",\n",
       "       'Cipriani Le Specialita', 'Sushi Choshi', 'Kanoyama', 'V-Nam Cafe',\n",
       "       'Zero Otto Nove', 'Dos Caminos Soho', 'Go! Go! Curry!',\n",
       "       'La Follia', 'Izakaya Ten', '12 Chairs', 'Philippe Chow',\n",
       "       'The MasalaWala', 'brgr', \"Carmine's\", 'Asuka Sushi', 'Aurora',\n",
       "       \"Sarabeth's\", 'Crema Restaurante', \"Big Daddy's\",\n",
       "       'Moonstruck on Second', 'Cafe de La Esquina', 'Olive Garden',\n",
       "       '67 Burger', 'Tres Carnes', \"Schnipper's Quality Kitchen\",\n",
       "       'Nha Trang One', 'Market Table', 'Galli Restaurant',\n",
       "       'Hampton Chutney Co.', 'Byblos Restaurant',\n",
       "       'Grand Sichuan International', 'Le Grainne Cafe', 'Il Bambino',\n",
       "       'Kori Restaurant and Bar', 'DespaÌ±a', 'Lamarca Pasta',\n",
       "       'Lucky Strike', \"Paul & Jimmy's\", 'Hunan Manor', \"Coppola's East\",\n",
       "       'Emporio', 'Wa Jeal', 'Le Zie 2000 Trattoria', 'Rye House',\n",
       "       \"Hiroko's Place\", 'Frank Restaurant', \"Sarabeth's West\",\n",
       "       \"'wichcraft\"], dtype=object)"
      ]
     },
     "execution_count": 40,
     "metadata": {},
     "output_type": "execute_result"
    }
   ],
   "source": [
    "# check unique Restaurant Name\n",
    "\n",
    "\n",
    "df['restaurant_name'].unique()  ## Complete the code to find out number of unique Restaurant Name"
   ]
  },
  {
   "cell_type": "markdown",
   "metadata": {
    "id": "X7jR8GHN2rdK"
   },
   "source": [
    "#### Cuisine type"
   ]
  },
  {
   "cell_type": "code",
   "execution_count": 39,
   "metadata": {
    "id": "uFd2adxc2rdK"
   },
   "outputs": [
    {
     "data": {
      "text/plain": [
       "array(['Korean', 'Japanese', 'Mexican', 'American', 'Indian', 'Italian',\n",
       "       'Mediterranean', 'Chinese', 'Middle Eastern', 'Thai', 'Southern',\n",
       "       'French', 'Spanish', 'Vietnamese'], dtype=object)"
      ]
     },
     "execution_count": 39,
     "metadata": {},
     "output_type": "execute_result"
    }
   ],
   "source": [
    "# Check unique cuisine type\n",
    "df['cuisine_type'].unique() ## Complete the code to find out  number of  unique cuisine type"
   ]
  },
  {
   "cell_type": "code",
   "execution_count": 43,
   "metadata": {
    "id": "4JHi590P2rdK",
    "scrolled": true
   },
   "outputs": [
    {
     "data": {
      "text/plain": [
       "<AxesSubplot:xlabel='cuisine_type', ylabel='count'>"
      ]
     },
     "execution_count": 43,
     "metadata": {},
     "output_type": "execute_result"
    },
    {
     "data": {
      "image/png": "[encoded data removed]",
      "text/plain": [
       "<Figure size 1080x360 with 1 Axes>"
      ]
     },
     "metadata": {
      "needs_background": "light"
     },
     "output_type": "display_data"
    }
   ],
   "source": [
    "plt.figure(figsize = (15,5))\n",
    "sns.countplot(data = df, x = 'cuisine_type') ## Create a countplot for cuisine type."
   ]
  },
  {
   "cell_type": "markdown",
   "metadata": {
    "id": "fmWW_qb42rdL"
   },
   "source": [
    "#### Cost of the order"
   ]
  },
  {
   "cell_type": "code",
   "execution_count": 44,
   "metadata": {
    "id": "kq1lIbf42rdL",
    "scrolled": false
   },
   "outputs": [
    {
     "data": {
      "image/png": "[encoded data removed]",
      "text/plain": [
       "<Figure size 432x288 with 1 Axes>"
      ]
     },
     "metadata": {
      "needs_background": "light"
     },
     "output_type": "display_data"
    },
    {
     "data": {
      "image/png": "[encoded data removed]",
      "text/plain": [
       "<Figure size 432x288 with 1 Axes>"
      ]
     },
     "metadata": {
      "needs_background": "light"
     },
     "output_type": "display_data"
    }
   ],
   "source": [
    "sns.histplot(data=df,x='cost_of_the_order') ## Histogram for the cost of order\n",
    "plt.show()\n",
    "sns.boxplot(data=df,x='cost_of_the_order') ## Boxplot for the cost of order\n",
    "plt.show()"
   ]
  },
  {
   "cell_type": "markdown",
   "metadata": {
    "id": "p34KqEqx2rdL"
   },
   "source": [
    "#### Day of the week"
   ]
  },
  {
   "cell_type": "code",
   "execution_count": 45,
   "metadata": {
    "id": "KBMjgXjv2rdL"
   },
   "outputs": [
    {
     "data": {
      "text/plain": [
       "2"
      ]
     },
     "execution_count": 45,
     "metadata": {},
     "output_type": "execute_result"
    }
   ],
   "source": [
    "# # Check the unique values\n",
    "df['day_of_the_week'].nunique() ## Complete the code to check unique values for the 'day_of_the_week' column"
   ]
  },
  {
   "cell_type": "code",
   "execution_count": 46,
   "metadata": {
    "id": "Q5jvwJkZ2rdL",
    "scrolled": false
   },
   "outputs": [
    {
     "data": {
      "text/plain": [
       "<AxesSubplot:xlabel='day_of_the_week', ylabel='count'>"
      ]
     },
     "execution_count": 46,
     "metadata": {},
     "output_type": "execute_result"
    },
    {
     "data": {
      "image/png": "[encoded data removed]",
      "text/plain": [
       "<Figure size 432x288 with 1 Axes>"
      ]
     },
     "metadata": {
      "needs_background": "light"
     },
     "output_type": "display_data"
    }
   ],
   "source": [
    "sns.countplot(data = df, x = 'day_of_the_week') ## Complete the code to plot a bar graph for 'day_of_the_week' column"
   ]
  },
  {
   "cell_type": "markdown",
   "metadata": {
    "id": "1oOW_lzO2rdL"
   },
   "source": [
    "#### Rating"
   ]
  },
  {
   "cell_type": "code",
   "execution_count": 47,
   "metadata": {
    "id": "TNxjskCF2rdL",
    "scrolled": true
   },
   "outputs": [
    {
     "data": {
      "text/plain": [
       "4"
      ]
     },
     "execution_count": 47,
     "metadata": {},
     "output_type": "execute_result"
    }
   ],
   "source": [
    "# Check the unique values\n",
    "df['rating'].nunique()## Complete the code to check unique values for the 'rating' column"
   ]
  },
  {
   "cell_type": "code",
   "execution_count": 48,
   "metadata": {
    "id": "aP_djdHY2rdM",
    "scrolled": true
   },
   "outputs": [
    {
     "data": {
      "text/plain": [
       "<AxesSubplot:xlabel='rating', ylabel='count'>"
      ]
     },
     "execution_count": 48,
     "metadata": {},
     "output_type": "execute_result"
    },
    {
     "data": {
      "image/png": "[encoded data removed]",
      "text/plain": [
       "<Figure size 432x288 with 1 Axes>"
      ]
     },
     "metadata": {
      "needs_background": "light"
     },
     "output_type": "display_data"
    }
   ],
   "source": [
    "sns.countplot(data = df, x = 'rating') ## Complete the code to plot bar graph for 'rating' column"
   ]
  },
  {
   "cell_type": "markdown",
   "metadata": {
    "id": "OP1gYWnR2rdM"
   },
   "source": [
    "#### Food Preparation time"
   ]
  },
  {
   "cell_type": "code",
   "execution_count": 53,
   "metadata": {
    "id": "TYiF3h3t2rdM",
    "scrolled": true
   },
   "outputs": [
    {
     "data": {
      "image/png": "[encoded data removed]",
      "text/plain": [
       "<Figure size 432x288 with 1 Axes>"
      ]
     },
     "metadata": {
      "needs_background": "light"
     },
     "output_type": "display_data"
    },
    {
     "data": {
      "image/png": "[encoded data removed]",
      "text/plain": [
       "<Figure size 432x288 with 1 Axes>"
      ]
     },
     "metadata": {
      "needs_background": "light"
     },
     "output_type": "display_data"
    }
   ],
   "source": [
    "sns.histplot(data=df,x='cost_of_the_order'\n",
    ") ## Complete the code to plot the histogram for the cost of order\n",
    "plt.show()\n",
    "sns.boxplot(data=df,x='cost_of_the_order'\n",
    ") ## Complete the code to plot the boxplot for the cost of order\n",
    "plt.show()"
   ]
  },
  {
   "cell_type": "markdown",
   "metadata": {
    "id": "ENW0PF5b2rdM"
   },
   "source": [
    "#### Delivery time"
   ]
  },
  {
   "cell_type": "code",
   "execution_count": 55,
   "metadata": {
    "id": "_1ZcT_SM2rdM",
    "scrolled": true
   },
   "outputs": [
    {
     "data": {
      "image/png": "[encoded data removed]",
      "text/plain": [
       "<Figure size 432x288 with 1 Axes>"
      ]
     },
     "metadata": {
      "needs_background": "light"
     },
     "output_type": "display_data"
    },
    {
     "data": {
      "image/png": "[encoded data removed]",
      "text/plain": [
       "<Figure size 432x288 with 1 Axes>"
      ]
     },
     "metadata": {
      "needs_background": "light"
     },
     "output_type": "display_data"
    }
   ],
   "source": [
    "sns.histplot(data=df,x='delivery_time')\n",
    " ## Complete the code to plot the histogram for the delivery time\n",
    "plt.show()\n",
    "sns.boxplot(data=df,x='delivery_time')\n",
    " ## Complete the code to plot the boxplot for the delivery time\n",
    "plt.show()"
   ]
  },
  {
   "cell_type": "markdown",
   "metadata": {
    "id": "HMwsI8f32rdM"
   },
   "source": [
    "### **Question 7:** Which are the top 5 restaurants in terms of the number of orders received? [1 mark]"
   ]
  },
  {
   "cell_type": "code",
   "execution_count": 56,
   "metadata": {
    "id": "OLQISNlc2rdM"
   },
   "outputs": [
    {
     "data": {
      "text/plain": [
       "Shake Shack                  219\n",
       "The Meatball Shop            132\n",
       "Blue Ribbon Sushi            119\n",
       "Blue Ribbon Fried Chicken     96\n",
       "Parm                          68\n",
       "Name: restaurant_name, dtype: int64"
      ]
     },
     "execution_count": 56,
     "metadata": {},
     "output_type": "execute_result"
    }
   ],
   "source": [
    "# Get top 5 restaurants with highest number of orders\n",
    "df['restaurant_name'].value_counts().head(5) ## Complete the code"
   ]
  },
  {
   "cell_type": "markdown",
   "metadata": {
    "id": "OV26KAC42rdN"
   },
   "source": [
    "### **Question 8:** Which is the most popular cuisine on weekends? [1 mark]"
   ]
  },
  {
   "cell_type": "code",
   "execution_count": 57,
   "metadata": {
    "id": "BqL62Kuu2rdN"
   },
   "outputs": [
    {
     "data": {
      "text/plain": [
       "array(['Korean', 'Japanese', 'American', 'Italian', 'Mexican',\n",
       "       'Mediterranean', 'Chinese', 'Indian', 'Thai', 'Southern', 'French',\n",
       "       'Spanish', 'Middle Eastern', 'Vietnamese'], dtype=object)"
      ]
     },
     "execution_count": 57,
     "metadata": {},
     "output_type": "execute_result"
    }
   ],
   "source": [
    "# Get most popular cuisine on weekends\n",
    "df_weekend = df[df['day_of_the_week'] == 'Weekend']\n",
    "df_weekend['cuisine_type'].unique() ## Complete the code to check unique values for the cuisine type on weekend"
   ]
  },
  {
   "cell_type": "markdown",
   "metadata": {
    "id": "UPFNE6Da2rdN"
   },
   "source": [
    "### **Question 9:** What percentage of the orders cost more than 20 dollars? [2 marks]\n"
   ]
  },
  {
   "cell_type": "code",
   "execution_count": 58,
   "metadata": {
    "id": "gHlH53rJ2rdN"
   },
   "outputs": [
    {
     "name": "stdout",
     "output_type": "stream",
     "text": [
      "The number of total orders that cost above 20 dollars is: 555\n",
      "Percentage of orders above 20 dollars: 29.24 %\n"
     ]
    }
   ],
   "source": [
    "# Get orders that cost above 20 dollars\n",
    "df_greater_than_20 = df[df['cost_of_the_order']>20] ## Write the appropriate column name to get the orders having cost above $20\n",
    "\n",
    "# Calculate the number of total orders where the cost is above 20 dollars\n",
    "print('The number of total orders that cost above 20 dollars is:', df_greater_than_20.shape[0])\n",
    "\n",
    "# Calculate percentage of such orders in the dataset\n",
    "percentage = (df_greater_than_20.shape[0] / df.shape[0]) * 100\n",
    "\n",
    "print(\"Percentage of orders above 20 dollars:\", round(percentage, 2), '%')"
   ]
  },
  {
   "cell_type": "markdown",
   "metadata": {
    "id": "rmOXTij42rdN"
   },
   "source": [
    "### **Question 10:** What is the mean order delivery time? [1 mark]"
   ]
  },
  {
   "cell_type": "code",
   "execution_count": 59,
   "metadata": {
    "id": "733fsOoO2rdN"
   },
   "outputs": [
    {
     "name": "stdout",
     "output_type": "stream",
     "text": [
      "The mean delivery time for this dataset is 24.16 minutes\n"
     ]
    }
   ],
   "source": [
    "# Get the mean delivery time\n",
    "mean_del_time = df['delivery_time'].mean()  ## Write the appropriate function to obtain the mean delivery time\n",
    "\n",
    "print('The mean delivery time for this dataset is', round(mean_del_time, 2), 'minutes')"
   ]
  },
  {
   "cell_type": "markdown",
   "metadata": {
    "id": "7C_G-BEy2rdO"
   },
   "source": [
    "### **Question 11:** The company has decided to give 20% discount vouchers to the top 3 most frequent customers. Find the IDs of these customers and the number of orders they placed. [1 mark]"
   ]
  },
  {
   "cell_type": "code",
   "execution_count": 60,
   "metadata": {
    "id": "U-husHb6F5lY"
   },
   "outputs": [
    {
     "data": {
      "text/plain": [
       "52832    13\n",
       "47440    10\n",
       "83287     9\n",
       "Name: customer_id, dtype: int64"
      ]
     },
     "execution_count": 60,
     "metadata": {},
     "output_type": "execute_result"
    }
   ],
   "source": [
    "# Get the counts of  each customer_id\n",
    "df['customer_id'].value_counts().head(3)  ## Write the appropriate column name to get the top 5 cmost frequent customers"
   ]
  },
  {
   "cell_type": "markdown",
   "metadata": {
    "id": "4ceeYAVy2rdO"
   },
   "source": [
    "### Multivariate Analysis"
   ]
  },
  {
   "cell_type": "markdown",
   "metadata": {
    "id": "h-gdOXrS2rdO"
   },
   "source": [
    "### **Question 12:** Perform a multivariate analysis to explore relationships between the important variables in the dataset. (It is a good idea to explore relations between numerical variables as well as relations between numerical and categorical variables) [10 marks]"
   ]
  },
  {
   "cell_type": "markdown",
   "metadata": {
    "id": "sTYfSbdR2rdO"
   },
   "source": [
    "#### Cuisine vs Cost of the order"
   ]
  },
  {
   "cell_type": "code",
   "execution_count": 61,
   "metadata": {
    "id": "wzJpBxZQ2rdP"
   },
   "outputs": [
    {
     "data": {
      "image/png": "[encoded data removed]",
      "text/plain": [
       "<Figure size 1080x504 with 1 Axes>"
      ]
     },
     "metadata": {
      "needs_background": "light"
     },
     "output_type": "display_data"
    }
   ],
   "source": [
    "# Relationship between cost of the order and cuisine type\n",
    "plt.figure(figsize=(15,7))\n",
    "sns.boxplot(x = \"cuisine_type\", y = \"cost_of_the_order\", data = df, palette = 'PuBu')\n",
    "plt.xticks(rotation = 60)\n",
    "plt.show()"
   ]
  },
  {
   "cell_type": "markdown",
   "metadata": {
    "id": "cmf4oTiB2rdQ"
   },
   "source": [
    "#### Cuisine vs Food Preparation time"
   ]
  },
  {
   "cell_type": "code",
   "execution_count": 62,
   "metadata": {
    "id": "cfeDWTgN2rdQ",
    "scrolled": true
   },
   "outputs": [
    {
     "data": {
      "image/png": "[encoded data removed]",
      "text/plain": [
       "<Figure size 1080x504 with 1 Axes>"
      ]
     },
     "metadata": {
      "needs_background": "light"
     },
     "output_type": "display_data"
    }
   ],
   "source": [
    "# Relationship between food preparation time and cuisine type\n",
    "plt.figure(figsize=(15,7))\n",
    "sns.boxplot(x = \"food_preparation_time\", y = \"cuisine_type\", data = df, palette = 'PuBu')  ## Complete the code to visualize the relationship between food preparation time and cuisine type using boxplot\n",
    "plt.xticks(rotation = 60)\n",
    "plt.show()"
   ]
  },
  {
   "cell_type": "markdown",
   "metadata": {
    "id": "28L5vjZw2rdQ"
   },
   "source": [
    "#### Day of the Week vs Delivery time"
   ]
  },
  {
   "cell_type": "code",
   "execution_count": 63,
   "metadata": {
    "id": "fG3QyQ452rdQ",
    "scrolled": true
   },
   "outputs": [
    {
     "data": {
      "image/png": "[encoded data removed]",
      "text/plain": [
       "<Figure size 1080x504 with 1 Axes>"
      ]
     },
     "metadata": {
      "needs_background": "light"
     },
     "output_type": "display_data"
    }
   ],
   "source": [
    "# Relationship between day of the week and delivery time\n",
    "plt.figure(figsize=(15,7))\n",
    "sns.boxplot(x = \"day_of_the_week\", y = \"delivery_time\", data = df, palette = 'PuBu')  ## Complete the code to visualize the relationship between day of the week and delivery time using boxplot\n",
    "plt.show()"
   ]
  },
  {
   "cell_type": "markdown",
   "metadata": {
    "id": "UnppMp022rdQ"
   },
   "source": [
    "#### Run the below code and write your observations on the revenue generated by the restaurants."
   ]
  },
  {
   "cell_type": "code",
   "execution_count": 65,
   "metadata": {
    "id": "LaDfuzIt2rdR"
   },
   "outputs": [
    {
     "data": {
      "text/plain": [
       "restaurant_name\n",
       "Shake Shack                      3579.53\n",
       "The Meatball Shop                2145.21\n",
       "Blue Ribbon Sushi                1903.95\n",
       "Blue Ribbon Fried Chicken        1662.29\n",
       "Parm                             1112.76\n",
       "RedFarm Broadway                  965.13\n",
       "RedFarm Hudson                    921.21\n",
       "TAO                               834.50\n",
       "Han Dynasty                       755.29\n",
       "Blue Ribbon Sushi Bar & Grill     666.62\n",
       "Rubirosa                          660.45\n",
       "Sushi of Gari 46                  640.87\n",
       "Nobu Next Door                    623.67\n",
       "Five Guys Burgers and Fries       506.47\n",
       "Name: cost_of_the_order, dtype: float64"
      ]
     },
     "execution_count": 65,
     "metadata": {},
     "output_type": "execute_result"
    }
   ],
   "source": [
    "df.groupby(['restaurant_name'])['cost_of_the_order'].sum().sort_values(ascending = False).head(14)"
   ]
  },
  {
   "cell_type": "code",
   "execution_count": null,
   "metadata": {},
   "outputs": [],
   "source": [
    "the code above displays the name of restaurants, calculated the sum of cost of the order and selects the \n",
    "top 14 restaurants based on the total cost of the order."
   ]
  },
  {
   "cell_type": "markdown",
   "metadata": {
    "id": "lu0o5GkQ2rdR"
   },
   "source": [
    "#### Rating vs Delivery time"
   ]
  },
  {
   "cell_type": "code",
   "execution_count": 66,
   "metadata": {
    "id": "NoBGHlPR2rdR",
    "scrolled": true
   },
   "outputs": [
    {
     "data": {
      "image/png": "[encoded data removed]",
      "text/plain": [
       "<Figure size 1080x504 with 1 Axes>"
      ]
     },
     "metadata": {
      "needs_background": "light"
     },
     "output_type": "display_data"
    }
   ],
   "source": [
    "# Relationship between rating and delivery time\n",
    "plt.figure(figsize=(15, 7))\n",
    "sns.pointplot(x = 'rating', y = 'delivery_time', data = df)\n",
    "plt.show()"
   ]
  },
  {
   "cell_type": "markdown",
   "metadata": {
    "id": "EUW_xUEK2rdR"
   },
   "source": [
    "#### Rating vs Food preparation time"
   ]
  },
  {
   "cell_type": "code",
   "execution_count": 67,
   "metadata": {
    "id": "d7qzVLdE2rdR",
    "scrolled": true
   },
   "outputs": [
    {
     "data": {
      "image/png": "[encoded data removed]",
      "text/plain": [
       "<Figure size 1080x504 with 1 Axes>"
      ]
     },
     "metadata": {
      "needs_background": "light"
     },
     "output_type": "display_data"
    }
   ],
   "source": [
    "# Relationship between rating and food preparation time\n",
    "plt.figure(figsize=(15, 7))\n",
    "sns.pointplot(x = 'rating', y = 'food_preparation_time', data = df)  ## Complete the code to visualize the relationship between rating and food preparation time using pointplot\n",
    "plt.show()"
   ]
  },
  {
   "cell_type": "markdown",
   "metadata": {
    "id": "x1xcxS6h2rdS"
   },
   "source": [
    "#### Rating vs Cost of the order"
   ]
  },
  {
   "cell_type": "code",
   "execution_count": 68,
   "metadata": {
    "id": "QV1lg0_72rdS"
   },
   "outputs": [
    {
     "data": {
      "image/png": "[encoded data removed]",
      "text/plain": [
       "<Figure size 1080x504 with 1 Axes>"
      ]
     },
     "metadata": {
      "needs_background": "light"
     },
     "output_type": "display_data"
    }
   ],
   "source": [
    "# Relationship between rating and cost of the order\n",
    "plt.figure(figsize=(15, 7))\n",
    "sns.pointplot(x = 'rating', y = 'cost_of_the_order', data = df)   ## Complete the code to visualize the relationship between rating and cost of the order using pointplot\n",
    "plt.show()"
   ]
  },
  {
   "cell_type": "markdown",
   "metadata": {
    "id": "N1ATzdSX2rdS"
   },
   "source": [
    "#### Correlation among variables"
   ]
  },
  {
   "cell_type": "code",
   "execution_count": 69,
   "metadata": {
    "id": "I4yA0y032rdS",
    "scrolled": true
   },
   "outputs": [
    {
     "data": {
      "image/png": "[encoded data removed]",
      "text/plain": [
       "<Figure size 1080x504 with 2 Axes>"
      ]
     },
     "metadata": {
      "needs_background": "light"
     },
     "output_type": "display_data"
    }
   ],
   "source": [
    "# Plot the heatmap\n",
    "col_list = ['cost_of_the_order', 'food_preparation_time', 'delivery_time']\n",
    "plt.figure(figsize=(15, 7))\n",
    "sns.heatmap(df[col_list].corr(), annot=True, vmin=-1, vmax=1, fmt=\".2f\", cmap=\"Spectral\")\n",
    "plt.show()"
   ]
  },
  {
   "cell_type": "markdown",
   "metadata": {
    "id": "zwBb5dAq2rdS"
   },
   "source": [
    "### **Question 13:** The company wants to provide a promotional offer in the advertisement of the restaurants. The condition to get the offer is that the restaurants must have a rating count of more than 50 and the average rating should be greater than 4. Find the restaurants fulfilling the criteria to get the promotional offer. [3 marks]"
   ]
  },
  {
   "cell_type": "code",
   "execution_count": 70,
   "metadata": {
    "id": "4jQUoQ812rdS",
    "scrolled": true
   },
   "outputs": [
    {
     "data": {
      "text/html": [
       "<div>\n",
       "<style scoped>\n",
       "    .dataframe tbody tr th:only-of-type {\n",
       "        vertical-align: middle;\n",
       "    }\n",
       "\n",
       "    .dataframe tbody tr th {\n",
       "        vertical-align: top;\n",
       "    }\n",
       "\n",
       "    .dataframe thead th {\n",
       "        text-align: right;\n",
       "    }\n",
       "</style>\n",
       "<table border=\"1\" class=\"dataframe\">\n",
       "  <thead>\n",
       "    <tr style=\"text-align: right;\">\n",
       "      <th></th>\n",
       "      <th>restaurant_name</th>\n",
       "      <th>rating</th>\n",
       "    </tr>\n",
       "  </thead>\n",
       "  <tbody>\n",
       "    <tr>\n",
       "      <th>0</th>\n",
       "      <td>Shake Shack</td>\n",
       "      <td>133</td>\n",
       "    </tr>\n",
       "    <tr>\n",
       "      <th>1</th>\n",
       "      <td>The Meatball Shop</td>\n",
       "      <td>84</td>\n",
       "    </tr>\n",
       "    <tr>\n",
       "      <th>2</th>\n",
       "      <td>Blue Ribbon Sushi</td>\n",
       "      <td>73</td>\n",
       "    </tr>\n",
       "    <tr>\n",
       "      <th>3</th>\n",
       "      <td>Blue Ribbon Fried Chicken</td>\n",
       "      <td>64</td>\n",
       "    </tr>\n",
       "    <tr>\n",
       "      <th>4</th>\n",
       "      <td>RedFarm Broadway</td>\n",
       "      <td>41</td>\n",
       "    </tr>\n",
       "  </tbody>\n",
       "</table>\n",
       "</div>"
      ],
      "text/plain": [
       "             restaurant_name  rating\n",
       "0                Shake Shack     133\n",
       "1          The Meatball Shop      84\n",
       "2          Blue Ribbon Sushi      73\n",
       "3  Blue Ribbon Fried Chicken      64\n",
       "4           RedFarm Broadway      41"
      ]
     },
     "execution_count": 70,
     "metadata": {},
     "output_type": "execute_result"
    }
   ],
   "source": [
    "# Filter the rated restaurants\n",
    "df_rated = df[df['rating'] != 'Not given'].copy()\n",
    "\n",
    "# Convert rating column from object to integer\n",
    "df_rated['rating'] = df_rated['rating'].astype('int')\n",
    "\n",
    "# Create a dataframe that contains the restaurant names with their rating counts\n",
    "df_rating_count = df_rated.groupby(['restaurant_name'])['rating'].count().sort_values(ascending = False).reset_index()\n",
    "df_rating_count.head()"
   ]
  },
  {
   "cell_type": "code",
   "execution_count": 73,
   "metadata": {
    "id": "VLdgfwoL2rdT"
   },
   "outputs": [
    {
     "data": {
      "text/html": [
       "<div>\n",
       "<style scoped>\n",
       "    .dataframe tbody tr th:only-of-type {\n",
       "        vertical-align: middle;\n",
       "    }\n",
       "\n",
       "    .dataframe tbody tr th {\n",
       "        vertical-align: top;\n",
       "    }\n",
       "\n",
       "    .dataframe thead th {\n",
       "        text-align: right;\n",
       "    }\n",
       "</style>\n",
       "<table border=\"1\" class=\"dataframe\">\n",
       "  <thead>\n",
       "    <tr style=\"text-align: right;\">\n",
       "      <th></th>\n",
       "      <th>restaurant_name</th>\n",
       "      <th>rating</th>\n",
       "    </tr>\n",
       "  </thead>\n",
       "  <tbody>\n",
       "    <tr>\n",
       "      <th>0</th>\n",
       "      <td>The Meatball Shop</td>\n",
       "      <td>4.511905</td>\n",
       "    </tr>\n",
       "    <tr>\n",
       "      <th>1</th>\n",
       "      <td>Blue Ribbon Fried Chicken</td>\n",
       "      <td>4.328125</td>\n",
       "    </tr>\n",
       "    <tr>\n",
       "      <th>2</th>\n",
       "      <td>Shake Shack</td>\n",
       "      <td>4.278195</td>\n",
       "    </tr>\n",
       "    <tr>\n",
       "      <th>3</th>\n",
       "      <td>Blue Ribbon Sushi</td>\n",
       "      <td>4.219178</td>\n",
       "    </tr>\n",
       "  </tbody>\n",
       "</table>\n",
       "</div>"
      ],
      "text/plain": [
       "             restaurant_name    rating\n",
       "0          The Meatball Shop  4.511905\n",
       "1  Blue Ribbon Fried Chicken  4.328125\n",
       "2                Shake Shack  4.278195\n",
       "3          Blue Ribbon Sushi  4.219178"
      ]
     },
     "execution_count": 73,
     "metadata": {},
     "output_type": "execute_result"
    }
   ],
   "source": [
    "# Get the restaurant names that have rating count more than 50\n",
    "rest_names = df_rating_count[df_rating_count['rating'] > 50]['restaurant_name'] ## Complete the code to get the restaurant names having rating count more than 50\n",
    "\n",
    "# Filter to get the data of restaurants that have rating count more than 50\n",
    "df_mean_4 = df_rated[df_rated['restaurant_name'].isin(rest_names)].copy()\n",
    "\n",
    "# Group the restaurant names with their ratings and find the mean rating of each restaurant\n",
    "df_mean_4.groupby(['restaurant_name'])['rating'].mean().sort_values(ascending = False).reset_index().dropna() ## Complete the code to find the mean rating\n"
   ]
  },
  {
   "cell_type": "markdown",
   "metadata": {
    "id": "UYq_xMk72rdT"
   },
   "source": [
    "### **Question 14:** The company charges the restaurant 25% on the orders having cost greater than 20 dollars and 15% on the orders having cost greater than 5 dollars. Find the net revenue generated by the company across all orders. [3 marks]"
   ]
  },
  {
   "cell_type": "code",
   "execution_count": 74,
   "metadata": {
    "id": "We7SLKbr2rdT"
   },
   "outputs": [
    {
     "data": {
      "text/html": [
       "<div>\n",
       "<style scoped>\n",
       "    .dataframe tbody tr th:only-of-type {\n",
       "        vertical-align: middle;\n",
       "    }\n",
       "\n",
       "    .dataframe tbody tr th {\n",
       "        vertical-align: top;\n",
       "    }\n",
       "\n",
       "    .dataframe thead th {\n",
       "        text-align: right;\n",
       "    }\n",
       "</style>\n",
       "<table border=\"1\" class=\"dataframe\">\n",
       "  <thead>\n",
       "    <tr style=\"text-align: right;\">\n",
       "      <th></th>\n",
       "      <th>order_id</th>\n",
       "      <th>customer_id</th>\n",
       "      <th>restaurant_name</th>\n",
       "      <th>cuisine_type</th>\n",
       "      <th>cost_of_the_order</th>\n",
       "      <th>day_of_the_week</th>\n",
       "      <th>rating</th>\n",
       "      <th>food_preparation_time</th>\n",
       "      <th>delivery_time</th>\n",
       "      <th>Revenue</th>\n",
       "    </tr>\n",
       "  </thead>\n",
       "  <tbody>\n",
       "    <tr>\n",
       "      <th>0</th>\n",
       "      <td>1477147</td>\n",
       "      <td>337525</td>\n",
       "      <td>Hangawi</td>\n",
       "      <td>Korean</td>\n",
       "      <td>30.75</td>\n",
       "      <td>Weekend</td>\n",
       "      <td>Not given</td>\n",
       "      <td>25</td>\n",
       "      <td>20</td>\n",
       "      <td>7.6875</td>\n",
       "    </tr>\n",
       "    <tr>\n",
       "      <th>1</th>\n",
       "      <td>1477685</td>\n",
       "      <td>358141</td>\n",
       "      <td>Blue Ribbon Sushi Izakaya</td>\n",
       "      <td>Japanese</td>\n",
       "      <td>12.08</td>\n",
       "      <td>Weekend</td>\n",
       "      <td>Not given</td>\n",
       "      <td>25</td>\n",
       "      <td>23</td>\n",
       "      <td>1.8120</td>\n",
       "    </tr>\n",
       "    <tr>\n",
       "      <th>2</th>\n",
       "      <td>1477070</td>\n",
       "      <td>66393</td>\n",
       "      <td>Cafe Habana</td>\n",
       "      <td>Mexican</td>\n",
       "      <td>12.23</td>\n",
       "      <td>Weekday</td>\n",
       "      <td>5</td>\n",
       "      <td>23</td>\n",
       "      <td>28</td>\n",
       "      <td>1.8345</td>\n",
       "    </tr>\n",
       "    <tr>\n",
       "      <th>3</th>\n",
       "      <td>1477334</td>\n",
       "      <td>106968</td>\n",
       "      <td>Blue Ribbon Fried Chicken</td>\n",
       "      <td>American</td>\n",
       "      <td>29.20</td>\n",
       "      <td>Weekend</td>\n",
       "      <td>3</td>\n",
       "      <td>25</td>\n",
       "      <td>15</td>\n",
       "      <td>7.3000</td>\n",
       "    </tr>\n",
       "    <tr>\n",
       "      <th>4</th>\n",
       "      <td>1478249</td>\n",
       "      <td>76942</td>\n",
       "      <td>Dirty Bird to Go</td>\n",
       "      <td>American</td>\n",
       "      <td>11.59</td>\n",
       "      <td>Weekday</td>\n",
       "      <td>4</td>\n",
       "      <td>25</td>\n",
       "      <td>24</td>\n",
       "      <td>1.7385</td>\n",
       "    </tr>\n",
       "  </tbody>\n",
       "</table>\n",
       "</div>"
      ],
      "text/plain": [
       "   order_id  customer_id            restaurant_name cuisine_type  \\\n",
       "0   1477147       337525                    Hangawi       Korean   \n",
       "1   1477685       358141  Blue Ribbon Sushi Izakaya     Japanese   \n",
       "2   1477070        66393                Cafe Habana      Mexican   \n",
       "3   1477334       106968  Blue Ribbon Fried Chicken     American   \n",
       "4   1478249        76942           Dirty Bird to Go     American   \n",
       "\n",
       "   cost_of_the_order day_of_the_week     rating  food_preparation_time  \\\n",
       "0              30.75         Weekend  Not given                     25   \n",
       "1              12.08         Weekend  Not given                     25   \n",
       "2              12.23         Weekday          5                     23   \n",
       "3              29.20         Weekend          3                     25   \n",
       "4              11.59         Weekday          4                     25   \n",
       "\n",
       "   delivery_time  Revenue  \n",
       "0             20   7.6875  \n",
       "1             23   1.8120  \n",
       "2             28   1.8345  \n",
       "3             15   7.3000  \n",
       "4             24   1.7385  "
      ]
     },
     "execution_count": 74,
     "metadata": {},
     "output_type": "execute_result"
    }
   ],
   "source": [
    "#function to determine the revenue\n",
    "def compute_rev(x):\n",
    "    if x > 20:\n",
    "        return x*0.25\n",
    "    elif x > 5:\n",
    "        return x*0.15\n",
    "    else:\n",
    "        return x*0\n",
    "\n",
    "df['Revenue'] = df['cost_of_the_order'].apply(compute_rev) ## Write the apprpriate column name to compute the revenue\n",
    "df.head()"
   ]
  },
  {
   "cell_type": "code",
   "execution_count": 75,
   "metadata": {
    "id": "Ab_UW6kRIAk3"
   },
   "outputs": [
    {
     "name": "stdout",
     "output_type": "stream",
     "text": [
      "The net revenue is around 6166.3 dollars\n"
     ]
    }
   ],
   "source": [
    "# get the total revenue and print it\n",
    "total_rev = df['Revenue'].sum() ## Write the appropriate function to get the total revenue\n",
    "print('The net revenue is around', round(total_rev, 2), 'dollars')"
   ]
  },
  {
   "cell_type": "markdown",
   "metadata": {
    "id": "LZy7Tky82rdT"
   },
   "source": [
    "### **Question 15:** The company wants to analyze the total time required to deliver the food. What percentage of orders take more than 60 minutes to get delivered from the time the order is placed? (The food has to be prepared and then delivered.)[2 marks]\n"
   ]
  },
  {
   "cell_type": "code",
   "execution_count": 78,
   "metadata": {
    "id": "Ati2ZEEE2rdT"
   },
   "outputs": [
    {
     "name": "stdout",
     "output_type": "stream",
     "text": [
      "Percentage of orders with total delivery time more than 60 minutes: 10.54 %\n"
     ]
    }
   ],
   "source": [
    "# Calculate total delivery time and add a new column to the dataframe df to store the total delivery time\n",
    "df['total_time'] = df['food_preparation_time'] + df['delivery_time']\n",
    "num_orders_more_than_60 = df[df['total_time'] > 60].shape[0]\n",
    "total_orders = df.shape[0]\n",
    "percentage_more_than_60 = (num_orders_more_than_60 / total_orders) * 100\n",
    "print(\"Percentage of orders with total delivery time more than 60 minutes:\", round(percentage_more_than_60, 2), '%')\n",
    "\n",
    "\n",
    "## Write the code below to find the percentage of orders that have more than 60 minutes of total delivery time (see Question 9 for reference)"
   ]
  },
  {
   "cell_type": "markdown",
   "metadata": {
    "id": "SYOKcqNF2rdU"
   },
   "source": [
    "### **Question 16:** The company wants to analyze the delivery time of the orders on weekdays and weekends. How does the mean delivery time vary during weekdays and weekends? [2 marks]"
   ]
  },
  {
   "cell_type": "code",
   "execution_count": 79,
   "metadata": {
    "id": "A2eovxKR2rdU"
   },
   "outputs": [
    {
     "name": "stdout",
     "output_type": "stream",
     "text": [
      "The mean delivery time on weekdays is around 28 minutes\n",
      "The mean delivery time on weekends is around 22 minutes\n"
     ]
    }
   ],
   "source": [
    "# Get the mean delivery time on weekdays and print it\n",
    "print('The mean delivery time on weekdays is around',\n",
    "      round(df[df['day_of_the_week'] == 'Weekday']['delivery_time'].mean()),\n",
    "     'minutes')\n",
    "\n",
    "\n",
    "## Write the code below to get the mean delivery time on weekends and print it\n",
    "print('The mean delivery time on weekends is around',\n",
    "      round(df[df['day_of_the_week'] == 'Weekend']['delivery_time'].mean()),\n",
    "      'minutes')\n",
    "\n",
    "\n",
    "\n",
    "\n",
    "\n"
   ]
  },
  {
   "cell_type": "markdown",
   "metadata": {
    "id": "2nE3pq472rdU"
   },
   "source": [
    "### Conclusion and Recommendations"
   ]
  },
  {
   "cell_type": "markdown",
   "metadata": {
    "id": "DL1sNndy2rdU"
   },
   "source": [
    "### **Question 17:** What are your conclusions from the analysis? What recommendations would you like to share to help improve the business? (You can use cuisine type and feedback ratings to drive your business recommendations.) [6 marks]"
   ]
  },
  {
   "cell_type": "markdown",
   "metadata": {
    "id": "VTugVsL4Ddz-"
   },
   "source": [
    "### Conclusions:\n",
    "*  Based on the analysis performed on the dataset, here are some conclusions that can be drawn:\n",
    "\n",
    "    Top Restaurants by Order Count: We identified the top 5 restaurants with the highest number of orders, which can help in understanding customer preferences and restaurant popularity.\n",
    "\n",
    "    Most Popular Cuisine on Weekends: By analyzing the cuisine types ordered on weekends, we can identify the most popular cuisine during weekend days, which might indicate weekend dining trends.\n",
    "\n",
    "    Orders above $20: We calculated the number and percentage of orders with a cost above $20, providing insight into the proportion of higher-value orders in the dataset.\n",
    "\n",
    "    Mean Delivery Time: The mean delivery time for all orders was calculated, providing an average measure of how long it takes for orders to be delivered.\n",
    "\n",
    "    Top Customers by Order Count: By counting the number of orders placed by each customer, we identified the top 3 most frequent customers, which could be valuable for customer relationship management and loyalty programs.\n",
    "\n",
    "    Relationship between Order Cost and Cuisine Type: Grouping orders by cuisine type and examining the total cost of orders within each cuisine category can reveal insights into the spending patterns associated with different cuisines.\n",
    "\n",
    "    Mean Rating of Restaurants with Rating Count > 50: We identified restaurants with a rating count greater than 50 and calculated the mean rating for each of these restaurants, providing insights into customer satisfaction for popular restaurants.\n",
    "\n",
    "    Revenue Calculation: A revenue calculation function was defined based on order cost, and total revenue was computed for the dataset.\n",
    "\n",
    "    Total Delivery Time and Percentage of Orders with Long Delivery Time: We calculated the total delivery time for each order and added a new column to the dataframe to store this information. Additionally, we found the percentage of orders with a total delivery time exceeding 60 minutes, which could indicate potential issues with delivery efficiency.\n",
    "\n",
    "    Mean Delivery Time on Weekdays and Weekends: We calculated and compared the mean delivery time on weekdays and weekends, which could help identify any differences in delivery performance based on the day of the week.\n",
    "\n",
    "    Overall, these analyses provide valuable insights into various aspects of the dataset, including customer behavior, restaurant performance, and delivery efficiency, which can be used to make informed decisions for business improvement and optimization"
   ]
  },
  {
   "cell_type": "markdown",
   "metadata": {
    "id": "PWnsI0i_guWJ"
   },
   "source": [
    "### Recommendations:\n",
    "\n",
    "*  Based on the analysis conducted on the dataset, here are some recommendations to help improve the business:\n",
    "\n",
    "    Diversify Cuisine Offerings: Identify the most popular cuisine types based on order counts and customer feedback ratings. Consider expanding the menu to include a wider variety of popular cuisines to attract a broader customer base.\n",
    "    Quality Improvement Initiatives: Focus on enhancing the quality of food and service for restaurants with lower feedback ratings. Implement training programs for staff to ensure consistency in food preparation and delivery standards.\n",
    "    Promote High-Rated Restaurants: Leverage the positive feedback ratings of top-rated restaurants to attract more customers. Implement marketing campaigns highlighting the excellent quality and customer satisfaction associated with these restaurants.\n",
    "    Optimize Delivery Efficiency: Analyze orders with long delivery times and identify potential bottlenecks in the delivery process. Implement measures to improve delivery efficiency, such as optimizing delivery routes, increasing staffing during peak hours, and leveraging technology solutions for real-time tracking.\n",
    "    Customer Loyalty Programs: Recognize and reward top customers by offering loyalty programs, discounts, or special promotions. Encourage repeat business and increase customer retention by providing incentives for frequent orders.\n",
    "    Specialty Cuisine Events: Host special events or promotions featuring specific cuisine types to attract customers interested in exploring new flavors. Collaborate with restaurants offering niche cuisines to showcase their unique dishes and attract food enthusiasts.\n",
    "    Feedback Collection Mechanisms: Implement robust feedback collection mechanisms to gather insights from customers regarding their dining experiences. Actively solicit feedback through surveys, review platforms, or in-app ratings to continuously improve service quality.\n",
    "    Collaborate with Highly Rated Restaurants: Forge partnerships with highly rated restaurants to offer exclusive deals or meal packages. Collaborative promotions can help increase visibility and drive traffic to both parties involved.\n",
    "    Regular Menu Refresh: Keep the menu fresh and exciting by introducing seasonal specials, limited-time offers, or chef-inspired dishes. Rotate menu items regularly to keep customers engaged and encourage repeat visits.\n",
    "    Community Engagement: Engage with the local community through events, sponsorships, or charitable initiatives. Build brand loyalty by demonstrating a commitment to social responsibility and supporting local causes.\n",
    "    By implementing these recommendations, the business can enhance customer satisfaction, attract new patrons, and drive long-term growth and profitability.\n",
    "\n",
    "\n",
    "\n",
    "\n",
    "\n"
   ]
  },
  {
   "cell_type": "markdown",
   "metadata": {
    "id": "Kvk0Fh6WhMjU"
   },
   "source": [
    "---"
   ]
  }
 ],
 "metadata": {
  "colab": {
   "collapsed_sections": [
    "LUh8hTiW2rdH",
    "2Dl2aL1W2rdI",
    "4ceeYAVy2rdO",
    "2nE3pq472rdU",
    "DL1sNndy2rdU"
   ],
   "provenance": []
  },
  "kernelspec": {
   "display_name": "Python 3",
   "language": "python",
   "name": "python3"
  },
  "language_info": {
   "codemirror_mode": {
    "name": "ipython",
    "version": 3
   },
   "file_extension": ".py",
   "mimetype": "text/x-python",
   "name": "python",
   "nbconvert_exporter": "python",
   "pygments_lexer": "ipython3",
   "version": "3.8.8"
  }
 },
 "nbformat": 4,
 "nbformat_minor": 1
}
